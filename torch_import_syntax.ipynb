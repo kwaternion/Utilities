{
 "cells": [
  {
   "cell_type": "markdown",
   "metadata": {},
   "source": [
    "On google notebook, nice info:\n",
    "https://medium.com/google-cloud/using-google-cloud-ai-platform-notebooks-as-a-web-based-python-ide-e729e0dc6eed\n",
    "\n",
    "\n",
    "Understading pytorch:\n",
    "https://towardsdatascience.com/understanding-pytorch-with-an-example-a-step-by-step-tutorial-81fc5f8c4e8e"
   ]
  },
  {
   "cell_type": "code",
   "execution_count": 2,
   "metadata": {
    "ExecuteTime": {
     "end_time": "2019-07-30T23:11:56.525653Z",
     "start_time": "2019-07-30T23:11:53.389177Z"
    }
   },
   "outputs": [
    {
     "name": "stdout",
     "output_type": "stream",
     "text": [
      "Pixiedust database opened successfully\n"
     ]
    },
    {
     "data": {
      "text/html": [
       "\n",
       "        <div style=\"margin:10px\">\n",
       "            <a href=\"https://github.com/ibm-watson-data-lab/pixiedust\" target=\"_new\">\n",
       "                <img src=\"https://github.com/ibm-watson-data-lab/pixiedust/raw/master/docs/_static/pd_icon32.png\" style=\"float:left;margin-right:10px\"/>\n",
       "            </a>\n",
       "            <span>Pixiedust version 1.1.17</span>\n",
       "        </div>\n",
       "        "
      ],
      "text/plain": [
       "<IPython.core.display.HTML object>"
      ]
     },
     "metadata": {},
     "output_type": "display_data"
    },
    {
     "ename": "ImportError",
     "evalue": "TensorBoard logging requires TensorBoard with Python summary writer installed. This should be available in 1.14 or above.",
     "output_type": "error",
     "traceback": [
      "\u001b[0;31m---------------------------------------------------------------------------\u001b[0m",
      "\u001b[0;31mModuleNotFoundError\u001b[0m                       Traceback (most recent call last)",
      "\u001b[0;32m~/anaconda3/envs/cs231n/lib/python3.7/site-packages/torch/utils/tensorboard/__init__.py\u001b[0m in \u001b[0;36m<module>\u001b[0;34m\u001b[0m\n\u001b[1;32m      1\u001b[0m \u001b[0;32mtry\u001b[0m\u001b[0;34m:\u001b[0m\u001b[0;34m\u001b[0m\u001b[0;34m\u001b[0m\u001b[0m\n\u001b[0;32m----> 2\u001b[0;31m     \u001b[0;32mfrom\u001b[0m \u001b[0mtensorboard\u001b[0m\u001b[0;34m.\u001b[0m\u001b[0msummary\u001b[0m\u001b[0;34m.\u001b[0m\u001b[0mwriter\u001b[0m\u001b[0;34m.\u001b[0m\u001b[0mrecord_writer\u001b[0m \u001b[0;32mimport\u001b[0m \u001b[0mRecordWriter\u001b[0m  \u001b[0;31m# noqa F401\u001b[0m\u001b[0;34m\u001b[0m\u001b[0;34m\u001b[0m\u001b[0m\n\u001b[0m\u001b[1;32m      3\u001b[0m \u001b[0;32mexcept\u001b[0m \u001b[0mImportError\u001b[0m\u001b[0;34m:\u001b[0m\u001b[0;34m\u001b[0m\u001b[0;34m\u001b[0m\u001b[0m\n",
      "\u001b[0;31mModuleNotFoundError\u001b[0m: No module named 'tensorboard'",
      "\nDuring handling of the above exception, another exception occurred:\n",
      "\u001b[0;31mImportError\u001b[0m                               Traceback (most recent call last)",
      "\u001b[0;32m<ipython-input-2-440c9fd6a11f>\u001b[0m in \u001b[0;36m<module>\u001b[0;34m\u001b[0m\n\u001b[1;32m      8\u001b[0m \u001b[0;32mfrom\u001b[0m \u001b[0mcollections\u001b[0m \u001b[0;32mimport\u001b[0m \u001b[0mOrderedDict\u001b[0m\u001b[0;34m\u001b[0m\u001b[0;34m\u001b[0m\u001b[0m\n\u001b[1;32m      9\u001b[0m \u001b[0;32mimport\u001b[0m \u001b[0mtorch\u001b[0m\u001b[0;34m.\u001b[0m\u001b[0mnn\u001b[0m\u001b[0;34m.\u001b[0m\u001b[0mfunctional\u001b[0m \u001b[0;32mas\u001b[0m \u001b[0mF\u001b[0m\u001b[0;34m\u001b[0m\u001b[0;34m\u001b[0m\u001b[0m\n\u001b[0;32m---> 10\u001b[0;31m \u001b[0;32mfrom\u001b[0m \u001b[0mtorch\u001b[0m\u001b[0;34m.\u001b[0m\u001b[0mutils\u001b[0m\u001b[0;34m.\u001b[0m\u001b[0mtensorboard\u001b[0m \u001b[0;32mimport\u001b[0m \u001b[0mSummaryWriter\u001b[0m  \u001b[0;31m# For connectivity to Tensordboard API\u001b[0m\u001b[0;34m\u001b[0m\u001b[0;34m\u001b[0m\u001b[0m\n\u001b[0m\u001b[1;32m     11\u001b[0m \u001b[0;32mfrom\u001b[0m \u001b[0mtorchvision\u001b[0m \u001b[0;32mimport\u001b[0m \u001b[0mtransforms\u001b[0m\u001b[0;34m\u001b[0m\u001b[0;34m\u001b[0m\u001b[0m\n\u001b[1;32m     12\u001b[0m \u001b[0;32mimport\u001b[0m \u001b[0mmatplotlib\u001b[0m\u001b[0;34m.\u001b[0m\u001b[0mpyplot\u001b[0m \u001b[0;32mas\u001b[0m \u001b[0mplt\u001b[0m\u001b[0;34m\u001b[0m\u001b[0;34m\u001b[0m\u001b[0m\n",
      "\u001b[0;32m~/anaconda3/envs/cs231n/lib/python3.7/site-packages/torch/utils/tensorboard/__init__.py\u001b[0m in \u001b[0;36m<module>\u001b[0;34m\u001b[0m\n\u001b[1;32m      2\u001b[0m     \u001b[0;32mfrom\u001b[0m \u001b[0mtensorboard\u001b[0m\u001b[0;34m.\u001b[0m\u001b[0msummary\u001b[0m\u001b[0;34m.\u001b[0m\u001b[0mwriter\u001b[0m\u001b[0;34m.\u001b[0m\u001b[0mrecord_writer\u001b[0m \u001b[0;32mimport\u001b[0m \u001b[0mRecordWriter\u001b[0m  \u001b[0;31m# noqa F401\u001b[0m\u001b[0;34m\u001b[0m\u001b[0;34m\u001b[0m\u001b[0m\n\u001b[1;32m      3\u001b[0m \u001b[0;32mexcept\u001b[0m \u001b[0mImportError\u001b[0m\u001b[0;34m:\u001b[0m\u001b[0;34m\u001b[0m\u001b[0;34m\u001b[0m\u001b[0m\n\u001b[0;32m----> 4\u001b[0;31m     raise ImportError('TensorBoard logging requires TensorBoard with Python summary writer installed. '\n\u001b[0m\u001b[1;32m      5\u001b[0m                       'This should be available in 1.14 or above.')\n\u001b[1;32m      6\u001b[0m \u001b[0;32mfrom\u001b[0m \u001b[0;34m.\u001b[0m\u001b[0mwriter\u001b[0m \u001b[0;32mimport\u001b[0m \u001b[0mFileWriter\u001b[0m\u001b[0;34m,\u001b[0m \u001b[0mSummaryWriter\u001b[0m  \u001b[0;31m# noqa F401\u001b[0m\u001b[0;34m\u001b[0m\u001b[0;34m\u001b[0m\u001b[0m\n",
      "\u001b[0;31mImportError\u001b[0m: TensorBoard logging requires TensorBoard with Python summary writer installed. This should be available in 1.14 or above."
     ]
    }
   ],
   "source": [
    "import numpy as np\n",
    "import torch.nn as nn\n",
    "import torch\n",
    "from torch import optim\n",
    "from torch.utils.data import DataLoader, Dataset\n",
    "import torchvision\n",
    "import pixiedust # visual debugger\n",
    "from collections import OrderedDict\n",
    "import torch.nn.functional as F\n",
    "from torch.utils.tensorboard import SummaryWriter  # For connectivity to Tensordboard API\n",
    "from torchvision import transforms\n",
    "import matplotlib.pyplot as plt\n",
    "from pprint import pprint\n",
    "\n",
    "#set_env just drop braeakpoint() in code to debug (python 3.7).\n",
    "%set_env PYTHONBREAKPOINT=IPython.core.debugger.set_trace \n",
    "\n",
    "%load_ext autoreload\n",
    "%autoreload 2\n",
    "%matplotlib inline\n",
    "\n",
    "dev = \"cuda:0\" if torch.cuda.is_available() else \"cpu\"\n",
    "print(\"Running code on:\", dev)\n",
    "version = torch.__version__\n",
    "assert version == \"1.1.0\"\n",
    "print(\"Torch version\", torch.__version__)"
   ]
  },
  {
   "cell_type": "markdown",
   "metadata": {},
   "source": [
    "High level API for pytorch\n",
    "\n",
    "Made some library called Poutyne which is basically a PyTorch front-end with a Keras-like interface. What is nice about it is the callbacks that comes with it and that you can make your own callbacks. No more need to make/copy-paste your training loop for each new project.\n",
    "Pytoune https://nodata.science/no-fit-comparing-high-level-learning-interfaces-for-pytorch.html\n",
    "\n",
    "\n",
    "Fast.ai\n",
    "\n",
    "\n",
    "imgaug is a personal favorite for image data augmentation. Works well with bounding boxes and segmentation maps and offers a lot of different image manipulation options.\n",
    "xarray It's like pandas, but for N-dimensional data.\n",
    "\n",
    "I used it for storing 10 dimensional tensors created by performing an extensive grid search. Each axis could be labelled by the hyperparameter name and indexed by the tested values."
   ]
  },
  {
   "cell_type": "markdown",
   "metadata": {
    "ExecuteTime": {
     "start_time": "2019-07-29T21:06:59.633Z"
    }
   },
   "source": [
    "Code example to use device definition:\n",
    "```python\n",
    "z = torch.randn((2,2), device=dev)\n",
    "y = torch.randn((2,2)).to(z.device)\n",
    "```"
   ]
  },
  {
   "cell_type": "markdown",
   "metadata": {},
   "source": [
    "https://stackoverflow.com/questions/49643225/whats-the-difference-between-reshape-and-view-in-pytorch\n",
    "\n",
    "torch.view has existed for a long time. It will return a tensor with the new shape. The returned tensor will share the underling data with the original tensor. See the documentation here.\n",
    "\n",
    "On the other hand, it seems that torch.reshape has been introduced recently in version 0.4. According to the document, this method will\n",
    "\n",
    "    Returns a tensor with the same data and number of elements as input, but with the specified shape. When possible, the returned tensor will be a view of input. Otherwise, it will be a copy. Contiguous inputs and inputs with compatible strides can be reshaped without copying, but you should not depend on the copying vs. viewing behavior.\n",
    "\n",
    "It means that torch.reshape may return a copy or a view of the original tensor. You can not count on that to return a view or a copy. According to the developer:\n",
    "\n",
    "    if you need a copy use clone() if you need the same storage use view(). The semantics of reshape() are that it may or may not share the storage and you don't know beforehand.\n",
    "\n",
    "Another difference is that reshape() can operate on both contiguous and non-contiguous tensor while view() can only operate on contiguous tensor. Also see here about the meaning of contiguous."
   ]
  },
  {
   "cell_type": "code",
   "execution_count": 6,
   "metadata": {
    "ExecuteTime": {
     "end_time": "2019-07-30T23:31:06.848006Z",
     "start_time": "2019-07-30T23:31:06.838358Z"
    }
   },
   "outputs": [
    {
     "name": "stdout",
     "output_type": "stream",
     "text": [
      "GPU not present\n"
     ]
    }
   ],
   "source": [
    "def mem_status():\n",
    "    dev = \"cuda:0\" if torch.cuda.is_available() else \"cpu\"\n",
    "    if dev != \"cpu\":\n",
    "        mem_total = torch.cuda.get_device_properties(dev).total_memory / 1e9\n",
    "        mem_used = torch.cuda.max_memory_allocated() / 1e9\n",
    "        mem_frac = mem_used / mem_total * 100\n",
    "        print(\"GPU memory used {:.2f}GB i.e. {:.1f}% out of {:.0f}GB\".format(mem_used, mem_frac, mem_total))\n",
    "    else: print(\"GPU not present\")\n",
    "mem_status()"
   ]
  },
  {
   "cell_type": "code",
   "execution_count": 45,
   "metadata": {
    "ExecuteTime": {
     "end_time": "2019-07-29T22:28:05.526080Z",
     "start_time": "2019-07-29T22:28:05.482333Z"
    }
   },
   "outputs": [
    {
     "data": {
      "text/plain": [
       "ModuleList(\n",
       "  (Stage 1): Sequential(\n",
       "    (dropout1): Dropout(p=0.1)\n",
       "    (dense1): Linear(in_features=10, out_features=10, bias=True)\n",
       "    (tanh): Tanh()\n",
       "    (dropout2): Dropout(p=0.1)\n",
       "    (dense2): Linear(in_features=10, out_features=10, bias=True)\n",
       "    (dropout3): Dropout(p=0.1)\n",
       "    (dense3): Linear(in_features=10, out_features=10, bias=True)\n",
       "  )\n",
       "  (Stage 2): Sequential(\n",
       "    (dropout1): Dropout(p=0.1)\n",
       "    (dense1): Linear(in_features=10, out_features=10, bias=True)\n",
       "    (tanh): Tanh()\n",
       "    (dropout2): Dropout(p=0.1)\n",
       "    (dense2): Linear(in_features=10, out_features=10, bias=True)\n",
       "    (dropout3): Dropout(p=0.1)\n",
       "    (dense3): Linear(in_features=10, out_features=10, bias=True)\n",
       "  )\n",
       ")"
      ]
     },
     "execution_count": 45,
     "metadata": {},
     "output_type": "execute_result"
    }
   ],
   "source": [
    "final_module_list = nn.ModuleList()\n",
    "\n",
    "a_sequential_module_with_names = nn.Sequential(OrderedDict([\n",
    "        ('dropout1', nn.Dropout(0.1)),\n",
    "        ('dense1', nn.Linear(10, 10)),\n",
    "        ('tanh', nn.Tanh()),\n",
    "        ('dropout2', nn.Dropout(0.1)),\n",
    "        ('dense2', nn.Linear(10, 10)),\n",
    "        ('tanh', nn.Tanh()),\n",
    "        ('dropout3', nn.Dropout(0.1)),\n",
    "        ('dense3', nn.Linear(10, 10))]))\n",
    "\n",
    "final_module_list.add_module('Stage 1', a_sequential_module_with_names)\n",
    "final_module_list.add_module('Stage 2', a_sequential_module_with_names)\n",
    "final_module_list"
   ]
  },
  {
   "cell_type": "code",
   "execution_count": 56,
   "metadata": {
    "ExecuteTime": {
     "end_time": "2019-07-29T22:31:24.680606Z",
     "start_time": "2019-07-29T22:31:24.646862Z"
    }
   },
   "outputs": [
    {
     "data": {
      "text/plain": [
       "2"
      ]
     },
     "execution_count": 56,
     "metadata": {},
     "output_type": "execute_result"
    }
   ],
   "source": [
    "list(dict(dict(final_module_list.named_children())[\"Stage 1\"].named_children()).keys()).index(\"tanh\")"
   ]
  },
  {
   "cell_type": "code",
   "execution_count": 77,
   "metadata": {
    "ExecuteTime": {
     "end_time": "2019-07-29T22:45:39.312008Z",
     "start_time": "2019-07-29T22:45:39.189468Z"
    }
   },
   "outputs": [
    {
     "data": {
      "text/plain": [
       "tensor([[ 0.1626,  0.0186, -0.1295,  0.4807,  0.3269, -0.2481, -0.3786, -0.0067,\n",
       "         -0.3329, -0.0407],\n",
       "        [ 0.1094,  0.0186, -0.1655,  0.4677,  0.3674, -0.2741, -0.3422,  0.0105,\n",
       "         -0.3493, -0.0011],\n",
       "        [ 0.1324,  0.0235, -0.1276,  0.4514,  0.3300, -0.2560, -0.3444, -0.0085,\n",
       "         -0.3310,  0.0424]], grad_fn=<AddmmBackward>)"
      ]
     },
     "execution_count": 77,
     "metadata": {},
     "output_type": "execute_result"
    }
   ],
   "source": [
    "class SimpleModule(nn.Module):\n",
    "    def __init__(self, in_c, n_classes):\n",
    "        super().__init__()\n",
    "        self.conv1 = nn.Conv2d(in_c, 32, kernel_size=3, stride=1, padding=1)\n",
    "        self.bn1 = nn.BatchNorm2d(32)\n",
    "        self.fc1 = nn.Linear(4608, 1024)\n",
    "        self.fc2 = nn.Linear(1024, n_classes)\n",
    "        \n",
    "    def forward(self, x):\n",
    "        x = self.conv1(x)\n",
    "        x = self.bn1(x)\n",
    "        x = F.relu(x)\n",
    "        x = x.view(x.size(0), -1) # flat   \n",
    "        x = self.fc1(x)\n",
    "        x = torch.sigmoid(x)\n",
    "        x = self.fc2(x)\n",
    "        \n",
    "        return x\n",
    "\n",
    "model = SimpleModule(1, 10)\n",
    "model(torch.randn((3, 1, 12, 12)))"
   ]
  },
  {
   "cell_type": "code",
   "execution_count": 79,
   "metadata": {
    "ExecuteTime": {
     "end_time": "2019-07-29T22:47:36.660486Z",
     "start_time": "2019-07-29T22:47:36.598422Z"
    }
   },
   "outputs": [
    {
     "data": {
      "text/plain": [
       "tensor([[0.0000, 0.0000, 0.1861,  ..., 0.0285, 0.6225, 0.3746],\n",
       "        [0.0000, 0.0000, 0.0674,  ..., 0.0000, 0.0000, 0.0000],\n",
       "        [0.2947, 0.0675, 0.0000,  ..., 0.1377, 0.3450, 0.1012]],\n",
       "       grad_fn=<ViewBackward>)"
      ]
     },
     "execution_count": 79,
     "metadata": {},
     "output_type": "execute_result"
    }
   ],
   "source": [
    "class ModuleWithSequence(nn.Module):\n",
    "    def __init__(self, in_c, n_classes):\n",
    "        super().__init__()\n",
    "        \n",
    "        self.conv_block1 = nn.Sequential(\n",
    "            nn.Conv2d(in_c, 32, kernel_size=3, stride=1, padding=1),\n",
    "            nn.BatchNorm2d(32),\n",
    "            nn.ReLU()\n",
    "        )\n",
    "        self.conv_block2 = nn.Sequential(\n",
    "            nn.Conv2d(32, 64, kernel_size=3, stride=1, padding=1),\n",
    "            nn.BatchNorm2d(64),\n",
    "            nn.ReLU()\n",
    "        )\n",
    "        \n",
    "    def forward(self, x):\n",
    "        x = self.conv_block1(x)\n",
    "        x = self.conv_block2(x)\n",
    "        x = x.view(x.size(0), -1) \n",
    "        \n",
    "        return x\n",
    "\n",
    "model = ModuleWithSequence(1, 10)\n",
    "model(torch.randn((3, 1, 12, 12)))"
   ]
  },
  {
   "cell_type": "code",
   "execution_count": 92,
   "metadata": {
    "ExecuteTime": {
     "end_time": "2019-07-29T22:54:40.976860Z",
     "start_time": "2019-07-29T22:54:40.911224Z"
    },
    "scrolled": true
   },
   "outputs": [
    {
     "name": "stdout",
     "output_type": "stream",
     "text": [
      "tensor([1.], dtype=torch.float64, requires_grad=True)\n",
      "(tensor([6.], dtype=torch.float64),)\n"
     ]
    }
   ],
   "source": [
    "x = torch.from_numpy(np.ones(1))\n",
    "x.requires_grad = True\n",
    "def poly(x):\n",
    "    #set_trace()\n",
    "    return x**2 + 4 * x + 6\n",
    "print(x)\n",
    "grad_x = torch.autograd.grad(poly(x), x)\n",
    "print(grad_x)"
   ]
  },
  {
   "cell_type": "markdown",
   "metadata": {},
   "source": [
    "# Model evaluation\n",
    "for evaluation of model use:\n",
    "```python\n",
    "model.eval() # Put the model in test mode (the opposite of model.train(), essentially)\n",
    "with torch.no_grad(): #enables context manager, which removes grads for testing (improves memeory and CPU time)\n",
    "```"
   ]
  },
  {
   "cell_type": "code",
   "execution_count": 119,
   "metadata": {
    "ExecuteTime": {
     "end_time": "2019-07-29T23:12:07.786381Z",
     "start_time": "2019-07-29T23:12:07.764745Z"
    }
   },
   "outputs": [
    {
     "name": "stdout",
     "output_type": "stream",
     "text": [
      "True\n",
      "False\n"
     ]
    }
   ],
   "source": [
    "print(poly(x).requires_grad)\n",
    "with torch.no_grad(): #enables context manager, which removes grads for testing (improves memeory and CPU time)\n",
    "    print(poly(x).requires_grad)"
   ]
  },
  {
   "cell_type": "code",
   "execution_count": 100,
   "metadata": {
    "ExecuteTime": {
     "end_time": "2019-07-29T22:57:33.257921Z",
     "start_time": "2019-07-29T22:57:33.230724Z"
    }
   },
   "outputs": [
    {
     "name": "stdout",
     "output_type": "stream",
     "text": [
      "torch.Size([1])\n",
      "tensor([1.], dtype=torch.float64, requires_grad=True)\n",
      "tensor([2.], dtype=torch.float64, grad_fn=<AddBackward0>)\n",
      "tensor([2.], dtype=torch.float64, grad_fn=<AddBackward0>)\n"
     ]
    }
   ],
   "source": [
    "print(x.shape)\n",
    "print(x)\n",
    "print(x+1)\n",
    "print(x.add(1))"
   ]
  },
  {
   "cell_type": "code",
   "execution_count": 105,
   "metadata": {
    "ExecuteTime": {
     "end_time": "2019-07-29T22:59:08.475774Z",
     "start_time": "2019-07-29T22:59:08.450933Z"
    }
   },
   "outputs": [
    {
     "name": "stdout",
     "output_type": "stream",
     "text": [
      "tensor([4.])\n",
      "tensor([5.])\n"
     ]
    }
   ],
   "source": [
    "#inplace\n",
    "b = torch.tensor([3.])\n",
    "b+=1\n",
    "print(b)\n",
    "b.add_(1)\n",
    "print(b)"
   ]
  },
  {
   "cell_type": "code",
   "execution_count": 144,
   "metadata": {
    "ExecuteTime": {
     "end_time": "2019-07-29T23:29:12.433961Z",
     "start_time": "2019-07-29T23:29:12.408785Z"
    }
   },
   "outputs": [],
   "source": [
    "def plot_fit(title, model):\n",
    "    plt.tilte = title\n",
    "    w1, b1 = get_params(model)\n",
    "    x1 = np.array([-30, 30])\n",
    "    y1 = w1 * x1 + b1\n",
    "    plt.plot(x1, y1, \"r\")\n",
    "    plt.scatter(X, y)"
   ]
  },
  {
   "cell_type": "code",
   "execution_count": 151,
   "metadata": {
    "ExecuteTime": {
     "end_time": "2019-07-29T23:31:13.158638Z",
     "start_time": "2019-07-29T23:31:13.122379Z"
    }
   },
   "outputs": [
    {
     "data": {
      "text/plain": [
       "(0.5152631998062134, -0.44137823581695557)"
      ]
     },
     "execution_count": 151,
     "metadata": {},
     "output_type": "execute_result"
    }
   ],
   "source": [
    "def zero_parameters(model):\n",
    "    for param in model.parameters():\n",
    "        param.data *= 0\n",
    "        \n",
    "def get_params(model):\n",
    "    w, b = model.parameters()\n",
    "    return w[0,0].item(), b[0].item()\n",
    "get_params(model)\n",
    "\n",
    "def reset(m):\n",
    "    #Usage: model_to_reset.apply(reset)\n",
    "    if hasattr(m, 'reset_parameters'):\n",
    "        m.reset_parameters()"
   ]
  },
  {
   "cell_type": "code",
   "execution_count": 174,
   "metadata": {
    "ExecuteTime": {
     "end_time": "2019-07-29T23:39:39.526400Z",
     "start_time": "2019-07-29T23:39:39.275287Z"
    }
   },
   "outputs": [
    {
     "data": {
      "image/png": "[encoded data removed]",
      "text/plain": [
       "<Figure size 432x288 with 1 Axes>"
      ]
     },
     "metadata": {
      "needs_background": "light"
     },
     "output_type": "display_data"
    }
   ],
   "source": [
    "torch.manual_seed(1) # random seed init. Must be at cell?\n",
    "class LR(nn.Module):\n",
    "    def __init__(self, input_size, output_size):\n",
    "        super().__init__()\n",
    "        self.linear = nn.Linear(input_size, output_size)\n",
    "    \n",
    "    def forward(self, x):\n",
    "        pred = self.linear(x)\n",
    "        return pred\n",
    "model = LR(input_size=1, output_size=1).to(dev) # Model deplyed to \"dev\" deivice\n",
    "get_params(model)\n",
    "plot_fit(\"init fit\", model)"
   ]
  },
  {
   "cell_type": "code",
   "execution_count": 182,
   "metadata": {
    "ExecuteTime": {
     "end_time": "2019-07-29T23:46:55.531403Z",
     "start_time": "2019-07-29T23:46:55.487465Z"
    }
   },
   "outputs": [
    {
     "name": "stdout",
     "output_type": "stream",
     "text": [
      "tensor([1.8180])\n"
     ]
    }
   ],
   "source": [
    "#Optimization\n",
    "criterion = nn.MSELoss()\n",
    "optimizer = torch.optim.SGD(model.parameters(), lr=0.01)\n",
    "\n",
    "zero_parameters(model)  # otherwize it further optimizes model's parameters\n",
    "epoch = 10\n",
    "losses = []\n",
    "\n",
    "X, y = X.to(dev), y.to(dev) # Make sure that data is also transfered to device\n",
    "model.train()\n",
    "optimizer.zero_grad()\n",
    "\n",
    "for i in range(epoch):\n",
    "    y_pred = model.forward(X)\n",
    "    loss = criterion(y_pred, y)\n",
    "    losses.append(loss.item())\n",
    "    optimizer.zero_grad()\n",
    "    loss.backward()\n",
    "    optimizer.step()\n",
    "\n",
    "#Model evaluation on evaluation data most commonly\n",
    "model.eval()\n",
    "with torch.no_grad():\n",
    "    y_pred_final = model.forward(torch.tensor([1.0]))\n",
    "print(y_pred_final)"
   ]
  },
  {
   "cell_type": "code",
   "execution_count": 170,
   "metadata": {
    "ExecuteTime": {
     "end_time": "2019-07-29T23:33:15.642786Z",
     "start_time": "2019-07-29T23:33:15.408851Z"
    },
    "scrolled": true
   },
   "outputs": [
    {
     "data": {
      "image/png": "[encoded data removed]",
      "text/plain": [
       "<Figure size 432x288 with 1 Axes>"
      ]
     },
     "metadata": {
      "needs_background": "light"
     },
     "output_type": "display_data"
    }
   ],
   "source": [
    "plot_fit(\"trained\", model)"
   ]
  },
  {
   "cell_type": "code",
   "execution_count": 165,
   "metadata": {
    "ExecuteTime": {
     "end_time": "2019-07-29T23:32:56.749713Z",
     "start_time": "2019-07-29T23:32:56.489992Z"
    }
   },
   "outputs": [
    {
     "data": {
      "image/png": "[encoded data removed]",
      "text/plain": [
       "<Figure size 432x288 with 1 Axes>"
      ]
     },
     "metadata": {
      "needs_background": "light"
     },
     "output_type": "display_data"
    }
   ],
   "source": [
    "plt.plot(range(epoch), losses, \".b-\");"
   ]
  },
  {
   "cell_type": "markdown",
   "metadata": {},
   "source": [
    "## Data processing:\n",
    "\n",
    "* Transforms\n",
    "* Dataset\n",
    "* DataLoader\n",
    "* Sampler"
   ]
  },
  {
   "cell_type": "code",
   "execution_count": 190,
   "metadata": {
    "ExecuteTime": {
     "end_time": "2019-07-30T00:33:19.742710Z",
     "start_time": "2019-07-30T00:33:19.709655Z"
    }
   },
   "outputs": [
    {
     "data": {
      "text/plain": [
       "<__main__.DataSetExample at 0x7f33692a2f60>"
      ]
     },
     "execution_count": 190,
     "metadata": {},
     "output_type": "execute_result"
    }
   ],
   "source": [
    "class DataSetExample(Dataset):\n",
    "    def __init__(self):\n",
    "        super().__init__()\n",
    "        # TODO implement me\n",
    "    \n",
    "    def __len__(self):\n",
    "        # TODO implement me\n",
    "        pass\n",
    "    \n",
    "    def __getitem__(self, idx):\n",
    "        # TODO implement me\n",
    "        pass\n",
    "dataset = DataSetExample()\n",
    "dataset"
   ]
  },
  {
   "cell_type": "code",
   "execution_count": 191,
   "metadata": {
    "ExecuteTime": {
     "end_time": "2019-07-30T00:36:34.025694Z",
     "start_time": "2019-07-30T00:36:33.997255Z"
    }
   },
   "outputs": [],
   "source": [
    "def get_trainable(model_params):\n",
    "    return (p for p in model_params if p.requires_grad)\n",
    "\n",
    "def get_frozen(model_params):\n",
    "    return (p for p in model_params if not p.requires_grad)\n",
    "\n",
    "def all_trainable(model_params):\n",
    "    return all(p.requires_grad for p in model_params)\n",
    "\n",
    "def all_frozen(model_params):\n",
    "    return all(not p.requires_grad for p in model_params)\n",
    "\n",
    "def freeze_all(model_params):\n",
    "    for param in model_params:\n",
    "        param.requires_grad = False"
   ]
  },
  {
   "cell_type": "code",
   "execution_count": null,
   "metadata": {
    "ExecuteTime": {
     "end_time": "2019-07-30T17:58:14.084005Z",
     "start_time": "2019-07-30T17:58:14.044621Z"
    }
   },
   "outputs": [],
   "source": [
    "#Transformations DataSets and DataLoaders\n",
    "_image_size = 224\n",
    "_mean = [0.485, 0.456, 0.406]\n",
    "_std = [0.229, 0.224, 0.225]\n",
    "\n",
    "train_trans = transforms.Compose([\n",
    "    transforms.Resize(256),  # some images are pretty small\n",
    "    transforms.RandomCrop(_image_size),\n",
    "    transforms.RandomHorizontalFlip(),\n",
    "    transforms.ColorJitter(.3, .3, .3),\n",
    "    transforms.ToTensor(),\n",
    "    transforms.Normalize(_mean, _std),\n",
    "])\n",
    "val_trans = transforms.Compose([\n",
    "    transforms.Resize(256),\n",
    "    transforms.CenterCrop(_image_size),\n",
    "    transforms.ToTensor(),\n",
    "    transforms.Normalize(_mean, _std),\n",
    "])\n",
    "\n",
    "train_ds = DogsCatsDataset(\"../data/raw\", \"sample/train\", transform=train_trans)\n",
    "val_ds = DogsCatsDataset(\"../data/raw\", \"sample/valid\", transform=val_trans)\n",
    "\n",
    "batch_size = 2\n",
    "n_classes = 2\n",
    "\n",
    "train_dl = DataLoader(\n",
    "    train_ds,\n",
    "    batch_size=batch_size,\n",
    "    shuffle=True,\n",
    "    num_workers=4,\n",
    ")\n",
    "val_dl = DataLoader(\n",
    "    val_ds,\n",
    "    batch_size=batch_size,\n",
    "    shuffle=False,\n",
    "    num_workers=4,\n",
    ")"
   ]
  },
  {
   "cell_type": "code",
   "execution_count": null,
   "metadata": {},
   "outputs": [],
   "source": []
  },
  {
   "cell_type": "code",
   "execution_count": null,
   "metadata": {},
   "outputs": [],
   "source": []
  },
  {
   "cell_type": "code",
   "execution_count": null,
   "metadata": {},
   "outputs": [],
   "source": []
  },
  {
   "cell_type": "code",
   "execution_count": null,
   "metadata": {},
   "outputs": [],
   "source": []
  },
  {
   "cell_type": "code",
   "execution_count": null,
   "metadata": {},
   "outputs": [],
   "source": []
  },
  {
   "cell_type": "code",
   "execution_count": null,
   "metadata": {},
   "outputs": [],
   "source": []
  }
 ],
 "metadata": {
  "kernelspec": {
   "display_name": "cs231n",
   "language": "python",
   "name": "cs231n"
  },
  "language_info": {
   "codemirror_mode": {
    "name": "ipython",
    "version": 3
   },
   "file_extension": ".py",
   "mimetype": "text/x-python",
   "name": "python",
   "nbconvert_exporter": "python",
   "pygments_lexer": "ipython3",
   "version": "3.7.3"
  },
  "varInspector": {
   "cols": {
    "lenName": 16,
    "lenType": 16,
    "lenVar": 40
   },
   "kernels_config": {
    "python": {
     "delete_cmd_postfix": "",
     "delete_cmd_prefix": "del ",
     "library": "var_list.py",
     "varRefreshCmd": "print(var_dic_list())"
    },
    "r": {
     "delete_cmd_postfix": ") ",
     "delete_cmd_prefix": "rm(",
     "library": "var_list.r",
     "varRefreshCmd": "cat(var_dic_list()) "
    }
   },
   "types_to_exclude": [
    "module",
    "function",
    "builtin_function_or_method",
    "instance",
    "_Feature"
   ],
   "window_display": false
  }
 },
 "nbformat": 4,
 "nbformat_minor": 2
}
